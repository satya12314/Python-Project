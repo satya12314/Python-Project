{
 "cells": [
  {
   "cell_type": "code",
   "execution_count": 1,
   "metadata": {},
   "outputs": [
    {
     "data": {
      "text/plain": [
       "'\\n    In this game, the player is in a land full of dragons. The dragons all live in caves with their large\\n    piles of collected treasure. Some dragons are friendly and share their treasure with you. Other\\n    dragons are hungry and eat anyone who enters their cave. The player is in front of two caves, one\\n    with a friendly dragon and the other with a hungry dragon. The player must choose between the\\n    two.\\n'"
      ]
     },
     "execution_count": 1,
     "metadata": {},
     "output_type": "execute_result"
    }
   ],
   "source": [
    "'''\n",
    "    In this game, the player is in a land full of dragons. The dragons all live in caves with their large\n",
    "    piles of collected treasure. Some dragons are friendly and share their treasure with you. Other\n",
    "    dragons are hungry and eat anyone who enters their cave. The player is in front of two caves, one\n",
    "    with a friendly dragon and the other with a hungry dragon. The player must choose between the\n",
    "    two.\n",
    "'''"
   ]
  },
  {
   "cell_type": "code",
   "execution_count": 68,
   "metadata": {},
   "outputs": [],
   "source": [
    "import random\n",
    "import time\n",
    "def cavechoose():\n",
    "    cave =''\n",
    "    while cave!='1' and cave!= '2':\n",
    "        print('Which cave u want to enter 1 or 2 ')\n",
    "        cave=input()\n",
    "    return cave\n",
    " "
   ]
  },
  {
   "cell_type": "code",
   "execution_count": 72,
   "metadata": {},
   "outputs": [],
   "source": [
    "def checkCave(chosencave):\n",
    "    friendcave=random.randint(1,2)\n",
    "    if chosencave==str(friendcave):\n",
    "        time.sleep(3)\n",
    "        print('Safe')\n",
    "    else:\n",
    "        time.sleep(3)\n",
    "        print('killed')\n"
   ]
  },
  {
   "cell_type": "code",
   "execution_count": 73,
   "metadata": {},
   "outputs": [
    {
     "name": "stdout",
     "output_type": "stream",
     "text": [
      "Which cave u want to enter 1 or 2 \n",
      "1\n",
      "Safe\n"
     ]
    }
   ],
   "source": [
    "cavenumber=cavechoose()\n",
    "checkCave(cavenumber)"
   ]
  },
  {
   "cell_type": "markdown",
   "metadata": {},
   "source": [
    "# Hangman game."
   ]
  },
  {
   "cell_type": "code",
   "execution_count": 74,
   "metadata": {},
   "outputs": [
    {
     "data": {
      "text/plain": [
       "'Hangman is a game for two people usually played with paper and pencil. One player thinks of a\\nword, and then draws a blank on the page for each letter in the word. Then the second player tries\\nto guess letters that might be in the word.\\nIf they guess correctly, the first player writes the letter in the proper blank. If they guess\\nincorrectly, the first player draws a single body part of the hanging man. If the second player can\\nguess all the letters in the word before the hangman is completely drawn, they win. But if they\\ncan’t figure it out in time, they lose.'"
      ]
     },
     "execution_count": 74,
     "metadata": {},
     "output_type": "execute_result"
    }
   ],
   "source": [
    "'''Hangman is a game for two people usually played with paper and pencil. One player thinks of a\n",
    "word, and then draws a blank on the page for each letter in the word. Then the second player tries\n",
    "to guess letters that might be in the word.\n",
    "If they guess correctly, the first player writes the letter in the proper blank. If they guess\n",
    "incorrectly, the first player draws a single body part of the hanging man. If the second player can\n",
    "guess all the letters in the word before the hangman is completely drawn, they win. But if they\n",
    "can’t figure it out in time, they lose.'''"
   ]
  },
  {
   "cell_type": "code",
   "execution_count": null,
   "metadata": {},
   "outputs": [],
   "source": []
  }
 ],
 "metadata": {
  "kernelspec": {
   "display_name": "Python 3",
   "language": "python",
   "name": "python3"
  },
  "language_info": {
   "codemirror_mode": {
    "name": "ipython",
    "version": 3
   },
   "file_extension": ".py",
   "mimetype": "text/x-python",
   "name": "python",
   "nbconvert_exporter": "python",
   "pygments_lexer": "ipython3",
   "version": "3.9.2"
  }
 },
 "nbformat": 4,
 "nbformat_minor": 4
}
