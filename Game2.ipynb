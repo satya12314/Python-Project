{
 "cells": [
  {
   "cell_type": "code",
   "execution_count": 14,
   "metadata": {},
   "outputs": [
    {
     "name": "stdout",
     "output_type": "stream",
     "text": [
      "7\n",
      "Your choice is too low , try again \n",
      "13\n",
      "Your choice is too high , try again\n",
      "11\n",
      "Your choice is too high , try again\n",
      "8\n",
      "You won\n"
     ]
    }
   ],
   "source": [
    "import random\n",
    "a=random.randint(2,20)\n",
    "total_chance=6\n",
    "count=0\n",
    "for i in range(total_chance):\n",
    "    choice=input()\n",
    "    if a==int(choice):\n",
    "        print('You won')\n",
    "        break\n",
    "    if a>int(choice):\n",
    "        print('Your choice is too low , try again ')\n",
    "    if a<int(choice):\n",
    "        print('Your choice is too high , try again')"
   ]
  },
  {
   "cell_type": "code",
   "execution_count": 15,
   "metadata": {},
   "outputs": [
    {
     "name": "stdout",
     "output_type": "stream",
     "text": [
      "21\n"
     ]
    },
    {
     "data": {
      "text/plain": [
       "'21'"
      ]
     },
     "execution_count": 15,
     "metadata": {},
     "output_type": "execute_result"
    }
   ],
   "source": [
    "input()"
   ]
  },
  {
   "cell_type": "code",
   "execution_count": 17,
   "metadata": {},
   "outputs": [
    {
     "name": "stdout",
     "output_type": "stream",
     "text": [
      "What do dentists call a astronaut's cavity?\n"
     ]
    }
   ],
   "source": [
    "print('What do dentists call a astronaut\\'s cavity?')"
   ]
  },
  {
   "cell_type": "code",
   "execution_count": null,
   "metadata": {},
   "outputs": [],
   "source": []
  }
 ],
 "metadata": {
  "kernelspec": {
   "display_name": "Python 3",
   "language": "python",
   "name": "python3"
  },
  "language_info": {
   "codemirror_mode": {
    "name": "ipython",
    "version": 3
   },
   "file_extension": ".py",
   "mimetype": "text/x-python",
   "name": "python",
   "nbconvert_exporter": "python",
   "pygments_lexer": "ipython3",
   "version": "3.9.2"
  }
 },
 "nbformat": 4,
 "nbformat_minor": 4
}
